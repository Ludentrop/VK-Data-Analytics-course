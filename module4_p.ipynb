{
 "cells": [
  {
   "cell_type": "code",
   "execution_count": 1,
   "id": "56f1865e-d214-4cb8-9d3b-8478ddc2bcc6",
   "metadata": {},
   "outputs": [],
   "source": [
    "import pandas as pd\n",
    "import numpy as np\n",
    "import matplotlib.pyplot as plt\n",
    "from scipy import stats"
   ]
  },
  {
   "cell_type": "code",
   "execution_count": 2,
   "id": "2e95b182-3422-4cec-a86e-9cc6f7e8e3f6",
   "metadata": {},
   "outputs": [
    {
     "name": "stdout",
     "output_type": "stream",
     "text": [
      "87.3\n",
      "87.5\n",
      "6.435060217278468\n"
     ]
    }
   ],
   "source": [
    "math_grades = [85, 90, 78, 92, 88, 85, 76, 98, 94, 87]\n",
    "print(np.mean(math_grades))\n",
    "print(np.median(math_grades))\n",
    "print(np.std(math_grades))"
   ]
  },
  {
   "cell_type": "code",
   "execution_count": null,
   "id": "a5669d7b-3c7c-4c78-beae-53c6ab9c89ab",
   "metadata": {},
   "outputs": [],
   "source": []
  }
 ],
 "metadata": {
  "kernelspec": {
   "display_name": "Python 3 (ipykernel)",
   "language": "python",
   "name": "python3"
  },
  "language_info": {
   "codemirror_mode": {
    "name": "ipython",
    "version": 3
   },
   "file_extension": ".py",
   "mimetype": "text/x-python",
   "name": "python",
   "nbconvert_exporter": "python",
   "pygments_lexer": "ipython3",
   "version": "3.11.4"
  }
 },
 "nbformat": 4,
 "nbformat_minor": 5
}
